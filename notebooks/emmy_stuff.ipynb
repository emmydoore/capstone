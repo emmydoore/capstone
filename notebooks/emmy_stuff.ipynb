{
 "cells": [
  {
   "cell_type": "code",
   "execution_count": 158,
   "metadata": {},
   "outputs": [],
   "source": [
    "import requests\n",
    "from bs4 import BeautifulSoup as BS \n",
    "import pandas as pd\n",
    "import cloudscraper as cs\n",
    "import re\n",
    "from lxml import etree"
   ]
  },
  {
   "cell_type": "code",
   "execution_count": 5,
   "metadata": {},
   "outputs": [],
   "source": [
    "URL = \"https://en.wikipedia.org/wiki/List_of_Grey%27s_Anatomy_episodes#Season_1_(2005)\"\n",
    "page = requests.get(URL)\n",
    "soup = BS(page.text)"
   ]
  },
  {
   "cell_type": "code",
   "execution_count": 49,
   "metadata": {},
   "outputs": [
    {
     "data": {
      "text/plain": [
       "'https://web.archive.org/web/20081221202459/http://abcmedianet.com/web/dnr/dispDNR.aspx?id=032905_05'"
      ]
     },
     "execution_count": 49,
     "metadata": {},
     "output_type": "execute_result"
    }
   ],
   "source": [
    "soup.find('a', text = '\"Weekly Program Rankings\"').get('href')"
   ]
  },
  {
   "cell_type": "code",
   "execution_count": 55,
   "metadata": {},
   "outputs": [
    {
     "data": {
      "text/plain": [
       "75"
      ]
     },
     "execution_count": 55,
     "metadata": {},
     "output_type": "execute_result"
    }
   ],
   "source": [
    "links = [x.get('href') for x in soup.find_all('a', text = '\"Weekly Program Rankings\"')]\n",
    "len(links)"
   ]
  },
  {
   "cell_type": "code",
   "execution_count": 57,
   "metadata": {},
   "outputs": [],
   "source": [
    "scraper=cs.create_scraper()\n",
    "cloudsoup=BS(scraper.get('https://www.imdb.com/title/tt0413573/episodes/?season=1').content)"
   ]
  },
  {
   "cell_type": "code",
   "execution_count": 58,
   "metadata": {},
   "outputs": [
    {
     "data": {
      "text/plain": [
       "[<a class=\"ipc-title-link-wrapper\" href=\"/title/tt0592902/?ref_=ttep_ep1\" tabindex=\"0\"><div class=\"ipc-title__text\">S1.E1 ∙ A Hard Day's Night</div></a>,\n",
       " <a class=\"ipc-title-link-wrapper\" href=\"/title/tt0592923/?ref_=ttep_ep2\" tabindex=\"0\"><div class=\"ipc-title__text\">S1.E2 ∙ The First Cut Is the Deepest</div></a>,\n",
       " <a class=\"ipc-title-link-wrapper\" href=\"/title/tt0592926/?ref_=ttep_ep3\" tabindex=\"0\"><div class=\"ipc-title__text\">S1.E3 ∙ Winning a Battle, Losing the War</div></a>,\n",
       " <a class=\"ipc-title-link-wrapper\" href=\"/title/tt0592915/?ref_=ttep_ep4\" tabindex=\"0\"><div class=\"ipc-title__text\">S1.E4 ∙ No Man's Land</div></a>,\n",
       " <a class=\"ipc-title-link-wrapper\" href=\"/title/tt0592919/?ref_=ttep_ep5\" tabindex=\"0\"><div class=\"ipc-title__text\">S1.E5 ∙ Shake Your Groove Thing</div></a>,\n",
       " <a class=\"ipc-title-link-wrapper\" href=\"/title/tt0592909/?ref_=ttep_ep6\" tabindex=\"0\"><div class=\"ipc-title__text\">S1.E6 ∙ If Tomorrow Never Comes</div></a>,\n",
       " <a class=\"ipc-title-link-wrapper\" href=\"/title/tt0592924/?ref_=ttep_ep7\" tabindex=\"0\"><div class=\"ipc-title__text\">S1.E7 ∙ The Self-Destruct Button</div></a>,\n",
       " <a class=\"ipc-title-link-wrapper\" href=\"/title/tt0592918/?ref_=ttep_ep8\" tabindex=\"0\"><div class=\"ipc-title__text\">S1.E8 ∙ Save Me</div></a>,\n",
       " <a class=\"ipc-title-link-wrapper\" href=\"/title/tt0592925/?ref_=ttep_ep9\" tabindex=\"0\"><div class=\"ipc-title__text\">S1.E9 ∙ Who's Zoomin' Who?</div></a>]"
      ]
     },
     "execution_count": 58,
     "metadata": {},
     "output_type": "execute_result"
    }
   ],
   "source": [
    "imdb=cloudsoup.findAll('a',attrs={'class':'ipc-title-link-wrapper'})\n",
    "imdb"
   ]
  },
  {
   "cell_type": "code",
   "execution_count": 59,
   "metadata": {},
   "outputs": [
    {
     "data": {
      "text/plain": [
       "['/title/tt0592902/?ref_=ttep_ep1',\n",
       " '/title/tt0592923/?ref_=ttep_ep2',\n",
       " '/title/tt0592926/?ref_=ttep_ep3',\n",
       " '/title/tt0592915/?ref_=ttep_ep4',\n",
       " '/title/tt0592919/?ref_=ttep_ep5',\n",
       " '/title/tt0592909/?ref_=ttep_ep6',\n",
       " '/title/tt0592924/?ref_=ttep_ep7',\n",
       " '/title/tt0592918/?ref_=ttep_ep8',\n",
       " '/title/tt0592925/?ref_=ttep_ep9']"
      ]
     },
     "execution_count": 59,
     "metadata": {},
     "output_type": "execute_result"
    }
   ],
   "source": [
    "one=[x.get('href').strip() for x in imdb]\n",
    "one"
   ]
  },
  {
   "cell_type": "code",
   "execution_count": 61,
   "metadata": {},
   "outputs": [],
   "source": [
    "# my function needs to: change the season number at the end of the url then scrape all of the episode hrefs and then print them\n",
    "episode_links = []\n",
    "\n",
    "#wouldn't work without the {}\n",
    "imdb_link='https://www.imdb.com/title/tt0413573/episodes/?season={}'\n",
    "\n",
    "#started with the example from this: https://isabella-b.com/blog/scraping-episode-imdb-ratings-tutorial/\n",
    "for sn in range(1,20):\n",
    "    url=imdb_link.format(sn)\n",
    "    #this is what i did to pull just season 1 but having .content was throwing an error\n",
    "    response=scraper.get(url)\n",
    "    #w/o this it just pulls 20 epis for each season\n",
    "    test = BS(response.text, 'html.parser')\n",
    "    #what i did for s1\n",
    "    links=test.findAll('a',attrs={'class':'ipc-title-link-wrapper'})\n",
    "    epi_links=[x.get('href').strip() for x in links]\n",
    "    for link in epi_links:\n",
    "        episode_links.append(link)"
   ]
  },
  {
   "cell_type": "code",
   "execution_count": 63,
   "metadata": {},
   "outputs": [
    {
     "data": {
      "text/plain": [
       "420"
      ]
     },
     "execution_count": 63,
     "metadata": {},
     "output_type": "execute_result"
    }
   ],
   "source": [
    "len(episode_links)"
   ]
  },
  {
   "cell_type": "code",
   "execution_count": 64,
   "metadata": {},
   "outputs": [
    {
     "data": {
      "text/plain": [
       "'/title/tt0592902/?ref_=ttep_ep1'"
      ]
     },
     "execution_count": 64,
     "metadata": {},
     "output_type": "execute_result"
    }
   ],
   "source": [
    "#add https://www.imdb.com to the front\n",
    "episode_links[0]"
   ]
  },
  {
   "cell_type": "code",
   "execution_count": 80,
   "metadata": {},
   "outputs": [],
   "source": [
    "scraper=cs.create_scraper()\n",
    "cloudsoup=BS(scraper.get(f'https://www.imdb.com{episode_links[0]}').content)"
   ]
  },
  {
   "cell_type": "code",
   "execution_count": 82,
   "metadata": {},
   "outputs": [
    {
     "data": {
      "text/plain": [
       "'8.3'"
      ]
     },
     "execution_count": 82,
     "metadata": {},
     "output_type": "execute_result"
    }
   ],
   "source": [
    "#rating\n",
    "cloudsoup.findAll('span',attrs={'class':'sc-bde20123-1 cMEQkK'})[0].text"
   ]
  },
  {
   "cell_type": "code",
   "execution_count": 83,
   "metadata": {},
   "outputs": [
    {
     "data": {
      "text/plain": [
       "\"A Hard Day's Night\""
      ]
     },
     "execution_count": 83,
     "metadata": {},
     "output_type": "execute_result"
    }
   ],
   "source": [
    "#title\n",
    "cloudsoup.findAll('span',attrs={'class':'hero__primary-text'})[0].text"
   ]
  },
  {
   "cell_type": "code",
   "execution_count": 97,
   "metadata": {},
   "outputs": [
    {
     "data": {
      "text/plain": [
       "'Mar 27, 2005'"
      ]
     },
     "execution_count": 97,
     "metadata": {},
     "output_type": "execute_result"
    }
   ],
   "source": [
    "#air date\n",
    "cloudsoup.findAll('li',text = re.compile('Episode aired(.*)'))[0].text.replace('Episode aired ', '')"
   ]
  },
  {
   "cell_type": "code",
   "execution_count": 100,
   "metadata": {},
   "outputs": [
    {
     "data": {
      "text/plain": [
       "'44'"
      ]
     },
     "execution_count": 100,
     "metadata": {},
     "output_type": "execute_result"
    }
   ],
   "source": [
    "#runtime\n",
    "cloudsoup.findAll('li',text = re.compile('(.*)m'))[0].text.replace('m', '')"
   ]
  },
  {
   "cell_type": "code",
   "execution_count": 101,
   "metadata": {},
   "outputs": [
    {
     "data": {
      "text/plain": [
       "'The first shift for new surgical interns Meredith, Cristina, Izzie, George, and Alex proves eventful and backbreaking.'"
      ]
     },
     "execution_count": 101,
     "metadata": {},
     "output_type": "execute_result"
    }
   ],
   "source": [
    "#ep description\n",
    "cloudsoup.findAll('span',attrs={'data-testid':'plot-xs_to_m'})[0].text"
   ]
  },
  {
   "cell_type": "code",
   "execution_count": 102,
   "metadata": {},
   "outputs": [
    {
     "data": {
      "text/plain": [
       "'Peter Horton'"
      ]
     },
     "execution_count": 102,
     "metadata": {},
     "output_type": "execute_result"
    }
   ],
   "source": [
    "#director\n",
    "cloudsoup.findAll('a',attrs={'class':'ipc-metadata-list-item__list-content-item'})[0].text"
   ]
  },
  {
   "cell_type": "code",
   "execution_count": 103,
   "metadata": {},
   "outputs": [
    {
     "data": {
      "text/plain": [
       "'Shonda Rhimes'"
      ]
     },
     "execution_count": 103,
     "metadata": {},
     "output_type": "execute_result"
    }
   ],
   "source": [
    "#writer\n",
    "cloudsoup.findAll('a',attrs={'class':'ipc-metadata-list-item__list-content-item'})[1].text"
   ]
  }
 ],
 "metadata": {
  "kernelspec": {
   "display_name": "Python 3 (ipykernel)",
   "language": "python",
   "name": "python3"
  },
  "language_info": {
   "codemirror_mode": {
    "name": "ipython",
    "version": 3
   },
   "file_extension": ".py",
   "mimetype": "text/x-python",
   "name": "python",
   "nbconvert_exporter": "python",
   "pygments_lexer": "ipython3",
   "version": "3.11.5"
  }
 },
 "nbformat": 4,
 "nbformat_minor": 2
}
